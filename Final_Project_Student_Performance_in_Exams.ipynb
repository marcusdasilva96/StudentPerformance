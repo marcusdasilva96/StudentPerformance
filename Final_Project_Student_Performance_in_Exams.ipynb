{
  "nbformat": 4,
  "nbformat_minor": 0,
  "metadata": {
    "colab": {
      "name": "Final Project - Student Performance in Exams.ipynb",
      "provenance": [],
      "collapsed_sections": [],
      "include_colab_link": true
    },
    "kernelspec": {
      "name": "python3",
      "display_name": "Python 3"
    }
  },
  "cells": [
    {
      "cell_type": "markdown",
      "metadata": {
        "id": "view-in-github",
        "colab_type": "text"
      },
      "source": [
        "<a href=\"https://colab.research.google.com/github/marcusdasilva96/StudentPerformance/blob/master/Final_Project_Student_Performance_in_Exams.ipynb\" target=\"_parent\"><img src=\"https://colab.research.google.com/assets/colab-badge.svg\" alt=\"Open In Colab\"/></a>"
      ]
    },
    {
      "cell_type": "markdown",
      "metadata": {
        "id": "kUtESBIh1gBY",
        "colab_type": "text"
      },
      "source": [
        "# Student Performance in Exams \n",
        "\n",
        "![img](https://www.gpbnews.org/sites/wjsp/files/styles/x_large/public/201611/graduation-liftedbydata_slide-271e09a2737b0ad490a15c1be7fb62c67837ed63-s1600-c85.jpg)\n",
        "\n",
        "Dataset can be obtained [here](https://www.kaggle.com/spscientist/students-performance-in-exams).\n",
        "\n",
        "#### Scores secured by students in three core subjects: math, reading and writing.\n",
        "\n",
        "*  What type of student tend to have better grades?\n",
        "*  What could have possibly impacted their performance?\n",
        "\n",
        "\n"
      ]
    },
    {
      "cell_type": "markdown",
      "metadata": {
        "id": "7p-e6ORk6umq",
        "colab_type": "text"
      },
      "source": [
        "#### Getting the dataset ready to be analyzed:\n",
        "\n"
      ]
    },
    {
      "cell_type": "code",
      "metadata": {
        "id": "gXBaRw36uWgi",
        "colab_type": "code",
        "outputId": "fe9760fc-94ad-4ace-9685-c0345db2b93a",
        "colab": {
          "base_uri": "https://localhost:8080/",
          "height": 204
        }
      },
      "source": [
        "# import the data CSV as dataframe and modules needed\n",
        "import pandas as pd\n",
        "import numpy as np \n",
        "import matplotlib.pyplot as plt\n",
        "\n",
        "# set the plots to display in the Jupyter notebook\n",
        "%matplotlib inline\n",
        "\n",
        "# set graph style for better visualization\n",
        "plt.style.use('ggplot')\n",
        "plt.rcParams['figure.figsize'] = (6,4)\n",
        "plt.rcParams['font.size'] = (14)\n",
        "\n",
        "df.head(5)"
      ],
      "execution_count": 74,
      "outputs": [
        {
          "output_type": "execute_result",
          "data": {
            "text/html": [
              "<div>\n",
              "<style scoped>\n",
              "    .dataframe tbody tr th:only-of-type {\n",
              "        vertical-align: middle;\n",
              "    }\n",
              "\n",
              "    .dataframe tbody tr th {\n",
              "        vertical-align: top;\n",
              "    }\n",
              "\n",
              "    .dataframe thead th {\n",
              "        text-align: right;\n",
              "    }\n",
              "</style>\n",
              "<table border=\"1\" class=\"dataframe\">\n",
              "  <thead>\n",
              "    <tr style=\"text-align: right;\">\n",
              "      <th></th>\n",
              "      <th>gender</th>\n",
              "      <th>race/ethnicity</th>\n",
              "      <th>parental level of education</th>\n",
              "      <th>lunch</th>\n",
              "      <th>test preparation course</th>\n",
              "      <th>math score</th>\n",
              "      <th>reading score</th>\n",
              "      <th>writing score</th>\n",
              "    </tr>\n",
              "  </thead>\n",
              "  <tbody>\n",
              "    <tr>\n",
              "      <th>0</th>\n",
              "      <td>female</td>\n",
              "      <td>group B</td>\n",
              "      <td>bachelor's degree</td>\n",
              "      <td>standard</td>\n",
              "      <td>none</td>\n",
              "      <td>72</td>\n",
              "      <td>72</td>\n",
              "      <td>74</td>\n",
              "    </tr>\n",
              "    <tr>\n",
              "      <th>1</th>\n",
              "      <td>female</td>\n",
              "      <td>group C</td>\n",
              "      <td>some college</td>\n",
              "      <td>standard</td>\n",
              "      <td>completed</td>\n",
              "      <td>69</td>\n",
              "      <td>90</td>\n",
              "      <td>88</td>\n",
              "    </tr>\n",
              "    <tr>\n",
              "      <th>2</th>\n",
              "      <td>female</td>\n",
              "      <td>group B</td>\n",
              "      <td>master's degree</td>\n",
              "      <td>standard</td>\n",
              "      <td>none</td>\n",
              "      <td>90</td>\n",
              "      <td>95</td>\n",
              "      <td>93</td>\n",
              "    </tr>\n",
              "    <tr>\n",
              "      <th>3</th>\n",
              "      <td>male</td>\n",
              "      <td>group A</td>\n",
              "      <td>associate's degree</td>\n",
              "      <td>free/reduced</td>\n",
              "      <td>none</td>\n",
              "      <td>47</td>\n",
              "      <td>57</td>\n",
              "      <td>44</td>\n",
              "    </tr>\n",
              "    <tr>\n",
              "      <th>4</th>\n",
              "      <td>male</td>\n",
              "      <td>group C</td>\n",
              "      <td>some college</td>\n",
              "      <td>standard</td>\n",
              "      <td>none</td>\n",
              "      <td>76</td>\n",
              "      <td>78</td>\n",
              "      <td>75</td>\n",
              "    </tr>\n",
              "  </tbody>\n",
              "</table>\n",
              "</div>"
            ],
            "text/plain": [
              "   gender race/ethnicity  ... reading score writing score\n",
              "0  female        group B  ...            72            74\n",
              "1  female        group C  ...            90            88\n",
              "2  female        group B  ...            95            93\n",
              "3    male        group A  ...            57            44\n",
              "4    male        group C  ...            78            75\n",
              "\n",
              "[5 rows x 8 columns]"
            ]
          },
          "metadata": {
            "tags": []
          },
          "execution_count": 74
        }
      ]
    },
    {
      "cell_type": "markdown",
      "metadata": {
        "id": "yJDW9ce9jBwY",
        "colab_type": "text"
      },
      "source": [
        "#### Manipulating data for convenience and better usability:"
      ]
    },
    {
      "cell_type": "code",
      "metadata": {
        "id": "Jl8VYG59i3Ur",
        "colab_type": "code",
        "colab": {
          "base_uri": "https://localhost:8080/",
          "height": 204
        },
        "outputId": "19bc4d32-607f-45ff-dbb6-de35a926ebbb"
      },
      "source": [
        "# give a name to the dataframe for convenience\n",
        "df = pd.read_csv('StudentsPerformance.csv')\n",
        "\n",
        "# remove race/ethnicity since data is inconclusive\n",
        "df2 = df.drop('race/ethnicity', axis=1)\n",
        "\n",
        "# add new column with average of all scores\n",
        "df2['average score'] = ((df2['math score'] + df2['reading score'] + df2['writing score'])/3)\n",
        "\n",
        "df2.head()"
      ],
      "execution_count": 75,
      "outputs": [
        {
          "output_type": "execute_result",
          "data": {
            "text/html": [
              "<div>\n",
              "<style scoped>\n",
              "    .dataframe tbody tr th:only-of-type {\n",
              "        vertical-align: middle;\n",
              "    }\n",
              "\n",
              "    .dataframe tbody tr th {\n",
              "        vertical-align: top;\n",
              "    }\n",
              "\n",
              "    .dataframe thead th {\n",
              "        text-align: right;\n",
              "    }\n",
              "</style>\n",
              "<table border=\"1\" class=\"dataframe\">\n",
              "  <thead>\n",
              "    <tr style=\"text-align: right;\">\n",
              "      <th></th>\n",
              "      <th>gender</th>\n",
              "      <th>parental level of education</th>\n",
              "      <th>lunch</th>\n",
              "      <th>test preparation course</th>\n",
              "      <th>math score</th>\n",
              "      <th>reading score</th>\n",
              "      <th>writing score</th>\n",
              "      <th>average score</th>\n",
              "    </tr>\n",
              "  </thead>\n",
              "  <tbody>\n",
              "    <tr>\n",
              "      <th>0</th>\n",
              "      <td>female</td>\n",
              "      <td>bachelor's degree</td>\n",
              "      <td>standard</td>\n",
              "      <td>none</td>\n",
              "      <td>72</td>\n",
              "      <td>72</td>\n",
              "      <td>74</td>\n",
              "      <td>72.666667</td>\n",
              "    </tr>\n",
              "    <tr>\n",
              "      <th>1</th>\n",
              "      <td>female</td>\n",
              "      <td>some college</td>\n",
              "      <td>standard</td>\n",
              "      <td>completed</td>\n",
              "      <td>69</td>\n",
              "      <td>90</td>\n",
              "      <td>88</td>\n",
              "      <td>82.333333</td>\n",
              "    </tr>\n",
              "    <tr>\n",
              "      <th>2</th>\n",
              "      <td>female</td>\n",
              "      <td>master's degree</td>\n",
              "      <td>standard</td>\n",
              "      <td>none</td>\n",
              "      <td>90</td>\n",
              "      <td>95</td>\n",
              "      <td>93</td>\n",
              "      <td>92.666667</td>\n",
              "    </tr>\n",
              "    <tr>\n",
              "      <th>3</th>\n",
              "      <td>male</td>\n",
              "      <td>associate's degree</td>\n",
              "      <td>free/reduced</td>\n",
              "      <td>none</td>\n",
              "      <td>47</td>\n",
              "      <td>57</td>\n",
              "      <td>44</td>\n",
              "      <td>49.333333</td>\n",
              "    </tr>\n",
              "    <tr>\n",
              "      <th>4</th>\n",
              "      <td>male</td>\n",
              "      <td>some college</td>\n",
              "      <td>standard</td>\n",
              "      <td>none</td>\n",
              "      <td>76</td>\n",
              "      <td>78</td>\n",
              "      <td>75</td>\n",
              "      <td>76.333333</td>\n",
              "    </tr>\n",
              "  </tbody>\n",
              "</table>\n",
              "</div>"
            ],
            "text/plain": [
              "   gender parental level of education  ... writing score average score\n",
              "0  female           bachelor's degree  ...            74     72.666667\n",
              "1  female                some college  ...            88     82.333333\n",
              "2  female             master's degree  ...            93     92.666667\n",
              "3    male          associate's degree  ...            44     49.333333\n",
              "4    male                some college  ...            75     76.333333\n",
              "\n",
              "[5 rows x 8 columns]"
            ]
          },
          "metadata": {
            "tags": []
          },
          "execution_count": 75
        }
      ]
    },
    {
      "cell_type": "markdown",
      "metadata": {
        "id": "840Y4_5C-f0H",
        "colab_type": "text"
      },
      "source": [
        "#### Details of my dataset:\n",
        "\n",
        "\n"
      ]
    },
    {
      "cell_type": "code",
      "metadata": {
        "id": "6-JASMHi-a-2",
        "colab_type": "code",
        "outputId": "5427485d-1c6c-4c3c-ce4e-f8e429563d43",
        "colab": {
          "base_uri": "https://localhost:8080/",
          "height": 204
        }
      },
      "source": [
        "# how many rows and what are the columns after the changes?\n",
        "print(f'Rows: {len(df2)}')\n",
        "print(f'Columns: {len(df2.columns)}')\n",
        "cols = df2.columns\n",
        "for i, col in enumerate(cols):\n",
        "  print(i+1, col)\n",
        "print()"
      ],
      "execution_count": 76,
      "outputs": [
        {
          "output_type": "stream",
          "text": [
            "Rows: 1000\n",
            "Columns: 8\n",
            "1 gender\n",
            "2 parental level of education\n",
            "3 lunch\n",
            "4 test preparation course\n",
            "5 math score\n",
            "6 reading score\n",
            "7 writing score\n",
            "8 average score\n",
            "\n"
          ],
          "name": "stdout"
        }
      ]
    },
    {
      "cell_type": "markdown",
      "metadata": {
        "id": "SQtbJ-PMONyD",
        "colab_type": "text"
      },
      "source": [
        "*   The dataset consists of one thousand rows, representing individual student entries, and eight unique columns that differentiate each row.\n",
        "*   The last column was added for better analysis of individual's average scores across all subjects."
      ]
    },
    {
      "cell_type": "code",
      "metadata": {
        "id": "G0ImZiW0g6pF",
        "colab_type": "code",
        "colab": {
          "base_uri": "https://localhost:8080/",
          "height": 384
        },
        "outputId": "f016bc0b-8bd7-4ba9-d3d3-c188b8b10c6b"
      },
      "source": [
        "# what's the distribution between male and female? numbers and percentage?\n",
        "print(df['gender'].value_counts())\n",
        "print(df['gender'].value_counts(normalize=True))\n",
        "print()\n",
        "\n",
        "# graphical representation\n",
        "print(df2['gender'].value_counts().plot(kind=\"pie\"))"
      ],
      "execution_count": 77,
      "outputs": [
        {
          "output_type": "stream",
          "text": [
            "female    518\n",
            "male      482\n",
            "Name: gender, dtype: int64\n",
            "female    0.518\n",
            "male      0.482\n",
            "Name: gender, dtype: float64\n",
            "\n",
            "AxesSubplot(0.260833,0.125;0.503333x0.755)\n"
          ],
          "name": "stdout"
        },
        {
          "output_type": "display_data",
          "data": {
            "image/png": "[encoded data removed]",
            "text/plain": [
              "<Figure size 432x288 with 1 Axes>"
            ]
          },
          "metadata": {
            "tags": []
          }
        }
      ]
    },
    {
      "cell_type": "markdown",
      "metadata": {
        "id": "6-UjvsHQO0IY",
        "colab_type": "text"
      },
      "source": [
        "*   The population is fairly distributed, being 52% female students (518) and 48% male students (482) -- not a biased example.\n"
      ]
    },
    {
      "cell_type": "markdown",
      "metadata": {
        "id": "Rs4fuRvEPw37",
        "colab_type": "text"
      },
      "source": [
        "#### How did they score in the test?\n",
        "\n"
      ]
    },
    {
      "cell_type": "code",
      "metadata": {
        "id": "cWyCu-gtxFX3",
        "colab_type": "code",
        "outputId": "381ee939-d8ce-4077-dd57-fd504032308f",
        "colab": {
          "base_uri": "https://localhost:8080/",
          "height": 170
        }
      },
      "source": [
        "# describe the scores of the overal population\n",
        "print(df2.describe()) \n",
        "# if no column is mentioned, it will automatically bring up only the columns with ints"
      ],
      "execution_count": 78,
      "outputs": [
        {
          "output_type": "stream",
          "text": [
            "       math score  reading score  writing score  average score\n",
            "count  1000.00000    1000.000000    1000.000000    1000.000000\n",
            "mean     66.08900      69.169000      68.054000      67.770667\n",
            "std      15.16308      14.600192      15.195657      14.257326\n",
            "min       0.00000      17.000000      10.000000       9.000000\n",
            "25%      57.00000      59.000000      57.750000      58.333333\n",
            "50%      66.00000      70.000000      69.000000      68.333333\n",
            "75%      77.00000      79.000000      79.000000      77.666667\n",
            "max     100.00000     100.000000     100.000000     100.000000\n"
          ],
          "name": "stdout"
        }
      ]
    },
    {
      "cell_type": "markdown",
      "metadata": {
        "id": "zwXtSynbPH1l",
        "colab_type": "text"
      },
      "source": [
        "*   Students generally scored a little better on reading and writing than on math (naturally).\n",
        "*   The average score of the overal population across all subjects wasn't so satisfactory given that the average score was below 70%."
      ]
    },
    {
      "cell_type": "code",
      "metadata": {
        "id": "l9qDkj6clDvn",
        "colab_type": "code",
        "colab": {
          "base_uri": "https://localhost:8080/",
          "height": 882
        },
        "outputId": "2836482c-9001-45d3-c963-c9a62d738da1"
      },
      "source": [
        "#  who scored better: male or female?\n",
        "print(df2.groupby('gender')['average score'].mean())\n",
        "print()\n",
        "print(df2.groupby('gender')['math score'].mean())\n",
        "print()\n",
        "print(df2.groupby('gender')['reading score'].mean())\n",
        "print()\n",
        "print(df2.groupby('gender')['writing score'].mean())\n",
        "print()\n",
        "print('---')\n",
        "print()\n",
        "\n",
        "# ok but maybe females had better backgrounds and influences... so what's the percentage of male and female who have completed test preparation courses?\n",
        "df3 = df2[df2['test preparation course']=='completed']\n",
        "print(df3['gender'].value_counts(normalize=True))\n",
        "print()\n",
        "\n",
        "# what's the percentage of male and female whose parent's have at least a bachelor's degree?\n",
        "education_levels = [\"master's degree\", \"bachelor's degree\"]\n",
        "df3 = df2[df2['parental level of education'].isin(education_levels)]\n",
        "print(df3['gender'].value_counts(normalize=True))\n",
        "print()\n",
        "\n",
        "# graphical representation \n",
        "df3 = df2.groupby('gender')['math score', 'reading score', 'writing score', 'average score'].mean()\n",
        "df3 = df3.transpose()\n",
        "df3.plot.bar()"
      ],
      "execution_count": 79,
      "outputs": [
        {
          "output_type": "stream",
          "text": [
            "gender\n",
            "female    69.569498\n",
            "male      65.837483\n",
            "Name: average score, dtype: float64\n",
            "\n",
            "gender\n",
            "female    63.633205\n",
            "male      68.728216\n",
            "Name: math score, dtype: float64\n",
            "\n",
            "gender\n",
            "female    72.608108\n",
            "male      65.473029\n",
            "Name: reading score, dtype: float64\n",
            "\n",
            "gender\n",
            "female    72.467181\n",
            "male      63.311203\n",
            "Name: writing score, dtype: float64\n",
            "\n",
            "---\n",
            "\n",
            "female    0.513966\n",
            "male      0.486034\n",
            "Name: gender, dtype: float64\n",
            "\n",
            "female    0.559322\n",
            "male      0.440678\n",
            "Name: gender, dtype: float64\n",
            "\n"
          ],
          "name": "stdout"
        },
        {
          "output_type": "execute_result",
          "data": {
            "text/plain": [
              "<matplotlib.axes._subplots.AxesSubplot at 0x7f50770d6a58>"
            ]
          },
          "metadata": {
            "tags": []
          },
          "execution_count": 79
        },
        {
          "output_type": "display_data",
          "data": {
            "image/png": "[encoded data removed]",
            "text/plain": [
              "<Figure size 432x288 with 1 Axes>"
            ]
          },
          "metadata": {
            "tags": []
          }
        }
      ]
    },
    {
      "cell_type": "markdown",
      "metadata": {
        "id": "cf5ifwGoQAja",
        "colab_type": "text"
      },
      "source": [
        "*   Females scored better overall while males outperformed in math.\n",
        "*   The female population had the highest score in reading, while males had the highest score in math.\n",
        "*   However, among females, there was a higher percent of students who both completed a test preparation course *and* their parents were highly educated."
      ]
    },
    {
      "cell_type": "markdown",
      "metadata": {
        "id": "wWTKtRPaZmGr",
        "colab_type": "text"
      },
      "source": [
        "#### What are some of the influences that could have affected these scores?\n"
      ]
    },
    {
      "cell_type": "code",
      "metadata": {
        "id": "oBdsL4s0Jcc7",
        "colab_type": "code",
        "outputId": "4d329d7f-58c9-41f9-9e47-f47750eaad03",
        "colab": {
          "base_uri": "https://localhost:8080/",
          "height": 408
        }
      },
      "source": [
        "# what are the parent's different levels of education?\n",
        "print(df2['parental level of education'].value_counts())\n",
        "print()\n",
        "\n",
        "# what are the average scores by parental level of education?\n",
        "print(df2.groupby('parental level of education')['average score'].mean().sort_values(ascending=False))\n",
        "print()\n",
        "\n",
        "# what are the average scores based of preparedness?\n",
        "print(df2.groupby('test preparation course')['average score'].mean().sort_values(ascending=False))\n",
        "print()\n",
        "\n",
        "# what about students that have done a course + their parents are highly educated?\n",
        "education_levels = [\"master's degree\", \"bachelor's degree\"]\n",
        "df3 = df2[(df2['test preparation course']=='completed') & (df2['parental level of education'].isin(education_levels))]\n",
        "print(df3['average score'].mean())"
      ],
      "execution_count": 80,
      "outputs": [
        {
          "output_type": "stream",
          "text": [
            "some college          226\n",
            "associate's degree    222\n",
            "high school           196\n",
            "some high school      179\n",
            "bachelor's degree     118\n",
            "master's degree        59\n",
            "Name: parental level of education, dtype: int64\n",
            "\n",
            "parental level of education\n",
            "master's degree       73.598870\n",
            "bachelor's degree     71.923729\n",
            "associate's degree    69.569069\n",
            "some college          68.476401\n",
            "some high school      65.108007\n",
            "high school           63.096939\n",
            "Name: average score, dtype: float64\n",
            "\n",
            "test preparation course\n",
            "completed    72.669460\n",
            "none         65.038941\n",
            "Name: average score, dtype: float64\n",
            "\n",
            "76.26262626262624\n"
          ],
          "name": "stdout"
        }
      ]
    },
    {
      "cell_type": "markdown",
      "metadata": {
        "id": "weBvhtqrQ_jc",
        "colab_type": "text"
      },
      "source": [
        "*   Students whose parents had the highest levels of education scored higher.\n",
        "*   Not surprisingly, those who completed a test preparation course achieved higher marks.\n",
        "*   And those whose parents are highly educated *and* completed a preparation course had the highest average across all subjects.\n"
      ]
    },
    {
      "cell_type": "markdown",
      "metadata": {
        "id": "OOl1JXCucaxx",
        "colab_type": "text"
      },
      "source": [
        "#### Are there any students who scored perfectly in all three sections?\n"
      ]
    },
    {
      "cell_type": "code",
      "metadata": {
        "id": "kGgtgqodScy4",
        "colab_type": "code",
        "outputId": "f7e3823a-75fc-4334-c6a9-d0c897fbf27b",
        "colab": {
          "base_uri": "https://localhost:8080/",
          "height": 159
        }
      },
      "source": [
        "# how many students scored 100 in all sections?\n",
        "print(df2[df2[\"average score\"] == 100]['average score'].count())\n",
        "\n",
        "# what can we say about them?\n",
        "df2[df2[\"average score\"] == 100]"
      ],
      "execution_count": 81,
      "outputs": [
        {
          "output_type": "stream",
          "text": [
            "3\n"
          ],
          "name": "stdout"
        },
        {
          "output_type": "execute_result",
          "data": {
            "text/html": [
              "<div>\n",
              "<style scoped>\n",
              "    .dataframe tbody tr th:only-of-type {\n",
              "        vertical-align: middle;\n",
              "    }\n",
              "\n",
              "    .dataframe tbody tr th {\n",
              "        vertical-align: top;\n",
              "    }\n",
              "\n",
              "    .dataframe thead th {\n",
              "        text-align: right;\n",
              "    }\n",
              "</style>\n",
              "<table border=\"1\" class=\"dataframe\">\n",
              "  <thead>\n",
              "    <tr style=\"text-align: right;\">\n",
              "      <th></th>\n",
              "      <th>gender</th>\n",
              "      <th>parental level of education</th>\n",
              "      <th>lunch</th>\n",
              "      <th>test preparation course</th>\n",
              "      <th>math score</th>\n",
              "      <th>reading score</th>\n",
              "      <th>writing score</th>\n",
              "      <th>average score</th>\n",
              "    </tr>\n",
              "  </thead>\n",
              "  <tbody>\n",
              "    <tr>\n",
              "      <th>458</th>\n",
              "      <td>female</td>\n",
              "      <td>bachelor's degree</td>\n",
              "      <td>standard</td>\n",
              "      <td>none</td>\n",
              "      <td>100</td>\n",
              "      <td>100</td>\n",
              "      <td>100</td>\n",
              "      <td>100.0</td>\n",
              "    </tr>\n",
              "    <tr>\n",
              "      <th>916</th>\n",
              "      <td>male</td>\n",
              "      <td>bachelor's degree</td>\n",
              "      <td>standard</td>\n",
              "      <td>completed</td>\n",
              "      <td>100</td>\n",
              "      <td>100</td>\n",
              "      <td>100</td>\n",
              "      <td>100.0</td>\n",
              "    </tr>\n",
              "    <tr>\n",
              "      <th>962</th>\n",
              "      <td>female</td>\n",
              "      <td>associate's degree</td>\n",
              "      <td>standard</td>\n",
              "      <td>none</td>\n",
              "      <td>100</td>\n",
              "      <td>100</td>\n",
              "      <td>100</td>\n",
              "      <td>100.0</td>\n",
              "    </tr>\n",
              "  </tbody>\n",
              "</table>\n",
              "</div>"
            ],
            "text/plain": [
              "     gender parental level of education  ... writing score average score\n",
              "458  female           bachelor's degree  ...           100         100.0\n",
              "916    male           bachelor's degree  ...           100         100.0\n",
              "962  female          associate's degree  ...           100         100.0\n",
              "\n",
              "[3 rows x 8 columns]"
            ]
          },
          "metadata": {
            "tags": []
          },
          "execution_count": 81
        }
      ]
    },
    {
      "cell_type": "markdown",
      "metadata": {
        "id": "oA8YPb5WYk4n",
        "colab_type": "text"
      },
      "source": [
        "*   Three students had a perfect score.\n",
        "*   All of them had parent's with at least an associate's degree.\n",
        "*   None had reduced fare lunch, which implies they weren't in low income families.\n",
        "*   Interestingly, the only male who had a perfect mark was the only one to complete a test preparation course.\n"
      ]
    }
  ]
}